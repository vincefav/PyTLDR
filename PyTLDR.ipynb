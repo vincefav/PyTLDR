{
 "cells": [
  {
   "cell_type": "code",
   "execution_count": 48,
   "metadata": {
    "collapsed": true
   },
   "outputs": [],
   "source": [
    "from nltk import word_tokenize\n",
    "import nltk\n",
    "\n",
    "import pandas as pd\n",
    "from collections import Counter\n",
    "\n",
    "from nltk.stem.snowball import SnowballStemmer\n",
    "st = SnowballStemmer('english', ignore_stopwords=True)"
   ]
  },
  {
   "cell_type": "code",
   "execution_count": 98,
   "metadata": {
    "collapsed": true
   },
   "outputs": [],
   "source": [
    "text = '''In 1982, Brown chose not to seek a third term as governor; instead, he ran for the United States Senate for the seat being vacated by Republican S.I. Hayakawa. He was defeated by Republican San Diego Mayor Pete Wilson by a margin of 52% to 45%. After his Senate defeat, Brown was left with few political options.[54] Republican George Deukmejian, a Brown critic, narrowly won the governorship in 1982, succeeding Brown, and was re-elected overwhelmingly in 1986. After his Senate defeat in 1982, many considered Brown's political career to be over.[54]\n",
    "\n",
    "Brown traveled to Japan to study Buddhism, studying with Christian/Zen practitioner Hugo Enomiya-Lassalle under Yamada Koun-roshi. In an interview, he explained, \"Since politics is based on illusions, zazen definitely provides new insights for a politician. I then come back into the world of California and politics, with critical distance from some of my more comfortable assumptions.\"[55] He also visited Mother Teresa in Calcutta, India, where he ministered to the sick in one of her hospices.[56] He explained, \"Politics is a power struggle to get to the top of the heap. Calcutta and Mother Teresa are about working with those who are at the bottom of the heap. And to see them as no different than yourself, and their needs as important as your needs. And you're there to serve them, and doing that you are attaining as great a state of being as you can.\"[55]\n",
    "\n",
    "Upon his return from abroad in 1988, Brown announced that he would stand as a candidate to become chairman of the California Democratic Party, and won against investment banker Steve Westly.[57] Although Brown greatly expanded the party's donor base and enlarged its coffers, with a focus on grassroots organizing and get out the vote drives, he was criticized for not spending enough money on TV ads, which was felt to have contributed to Democratic losses in several close races in 1990. In early 1991, Brown abruptly resigned his post and announced that he would run for the Senate seat held by the retiring Alan Cranston. Although Brown consistently led in the polls for both the nomination and the general election, he abandoned the campaign, deciding instead to run for the presidency for the third time.'''"
   ]
  },
  {
   "cell_type": "code",
   "execution_count": 135,
   "metadata": {
    "collapsed": true
   },
   "outputs": [],
   "source": [
    "text = '''Edmund Gerald Brown Jr. (born April 7, 1938) is an American politician, author and lawyer serving as the 39th and current Governor of California since 2011, previously holding the position from 1975 to 1983, making him the state's longest-serving Governor. As a consequence of the 28-year gap between his second and third terms, Brown is both the oldest and sixth-youngest California Governor.\n",
    "\n",
    "His father, Pat Brown, served as the 32nd Governor of California from 1959 to 1967. Jerry Brown, after graduating from the University of California, Berkeley and Yale University, began his political career as a member of the Los Angeles Community College District Board of Trustees (1969–1971). He was elected to serve as the 23rd Secretary of State of California in 1971 and served until 1975.\n",
    "\n",
    "At 36, Brown was elected to his first term as Governor in 1974, making him the youngest California Governor in 111 years. In 1978, he won his second term. During and following his first governorship, Brown three times ran as a candidate for the Democratic presidential nomination in 1976, 1980, and 1992. He declined to pursue a third term in 1982, instead choosing to unsuccessfully run for the United States Senate during the same year. After traveling abroad, he returned to California and served as Chairman of the California Democratic Party (1989–1991), attempting to run for the Senate once more in 1992.\n",
    "\n",
    "After six years out of politics, Brown returned to public life, serving as Mayor of Oakland from 1999 to 2007, and then Attorney General of California from 2007 to 2011. He ran for his third and fourth term as Governor in 2010 and 2014, respectively. His eligibility to do so stemmed from California's constitutional grandfather clause. On October 7, 2013, he became the longest-serving Governor in California history, surpassing Earl Warren. '''"
   ]
  },
  {
   "cell_type": "code",
   "execution_count": 136,
   "metadata": {
    "collapsed": false
   },
   "outputs": [],
   "source": [
    "# Remove abbreviations\n",
    "text = text.replace('Mr.', 'Mr')\n",
    "text = text.replace('Mrs.', 'Mrs')\n",
    "text = text.replace('Ms.', 'Ms')\n",
    "text = text.replace('Dr.', 'Dr')\n",
    "text = text.replace('Jr.', 'Jr')\n",
    "text += ' '\n",
    "\n",
    "to_delete = []\n",
    "for ix, char in enumerate(text):\n",
    "    if char == '.':\n",
    "        if text[ix+1].isupper() or text[ix-1].isupper():\n",
    "            to_delete.append(ix)\n",
    "            \n",
    "text = [char for ix, char in enumerate(list(text)) if ix not in to_delete]\n",
    "text = \"\".join(text).strip()\n",
    "\n",
    "tokens = word_tokenize(text)\n",
    "stemmed = [st.stem(word) for word in tokens]\n",
    "\n",
    "most_common = Counter(stemmed)"
   ]
  },
  {
   "cell_type": "code",
   "execution_count": 137,
   "metadata": {
    "collapsed": false
   },
   "outputs": [],
   "source": [
    "sentences = [i.strip() for i in text.split('.')]"
   ]
  },
  {
   "cell_type": "code",
   "execution_count": 138,
   "metadata": {
    "collapsed": false
   },
   "outputs": [],
   "source": [
    "rated = []\n",
    "\n",
    "for ix, sent in enumerate(sentences):\n",
    "    score = 0\n",
    "    for word in sent.split():\n",
    "        score += most_common[st.stem(word)]\n",
    "    rated.append([ix, score])"
   ]
  },
  {
   "cell_type": "code",
   "execution_count": 139,
   "metadata": {
    "collapsed": false
   },
   "outputs": [],
   "source": [
    "rated = pd.DataFrame(rated, columns=['sentence', 'score'])\n",
    "\n",
    "pct = False\n",
    "summary_length = 5\n",
    "\n",
    "if pct:\n",
    "    top_sentences = rated[rated['score'] > rated['score']\\\n",
    "                          .median()]['sentence']\\\n",
    "                          .values.tolist()\n",
    "if summary_length > 0:\n",
    "    top_sentences = rated.sort_values('score', ascending=False)\\\n",
    "                    .head(summary_length)['sentence'].sort_values().tolist()"
   ]
  },
  {
   "cell_type": "code",
   "execution_count": 140,
   "metadata": {
    "collapsed": false
   },
   "outputs": [
    {
     "name": "stdout",
     "output_type": "stream",
     "text": [
      "Edmund Gerald Brown Jr (born April 7, 1938) is an American politician, author and lawyer serving as the 39th and current Governor of California since 2011, previously holding the position from 1975 to 1983, making him the state's longest-serving Governor. As a consequence of the 28-year gap between his second and third terms, Brown is both the oldest and sixth-youngest California Governor. Jerry Brown, after graduating from the University of California, Berkeley and Yale University, began his political career as a member of the Los Angeles Community College District Board of Trustees (1969–1971). After traveling abroad, he returned to California and served as Chairman of the California Democratic Party (1989–1991), attempting to run for the Senate once more in 1992. After six years out of politics, Brown returned to public life, serving as Mayor of Oakland from 1999 to 2007, and then Attorney General of California from 2007 to 2011. "
     ]
    }
   ],
   "source": [
    "for ix, sent in enumerate(sentences):\n",
    "    if ix in top_sentences:\n",
    "        print(sent, end='. ')"
   ]
  },
  {
   "cell_type": "code",
   "execution_count": null,
   "metadata": {
    "collapsed": true
   },
   "outputs": [],
   "source": []
  },
  {
   "cell_type": "code",
   "execution_count": null,
   "metadata": {
    "collapsed": true
   },
   "outputs": [],
   "source": []
  }
 ],
 "metadata": {
  "kernelspec": {
   "display_name": "Python 3",
   "language": "python",
   "name": "python3"
  },
  "language_info": {
   "codemirror_mode": {
    "name": "ipython",
    "version": 3
   },
   "file_extension": ".py",
   "mimetype": "text/x-python",
   "name": "python",
   "nbconvert_exporter": "python",
   "pygments_lexer": "ipython3",
   "version": "3.6.0"
  }
 },
 "nbformat": 4,
 "nbformat_minor": 2
}
